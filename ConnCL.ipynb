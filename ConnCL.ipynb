{
  "cells": [
    {
      "cell_type": "code",
      "execution_count": null,
      "metadata": {
        "id": "-OuZDec2korK"
      },
      "outputs": [],
      "source": [
        "import torch\n",
        "import numpy as np\n",
        "import tensorflow as tf\n",
        "torch.cuda.is_available()\n",
        "tf.test.gpu_device_name()"
      ]
    },
    {
      "cell_type": "code",
      "execution_count": null,
      "metadata": {
        "id": "l8pCf5kTnn2E"
      },
      "outputs": [],
      "source": [
        "pip install torchnet"
      ]
    },
    {
      "cell_type": "code",
      "execution_count": null,
      "metadata": {
        "id": "SsWxwZi2lQrd"
      },
      "outputs": [],
      "source": [
        "### This is to import for use with google colab, with the appropriate setup directory for google drive\n",
        "###   Need to change this if you intend to use the .ipynb through another method\n",
        "from google.colab import drive\n",
        "%cd \"/content\"\n",
        "drive.mount('/content/drive', force_remount = True)\n",
        "%cd \"./drive/MyDrive/ConnCL/src\"\n",
        "!pwd"
      ]
    },
    {
      "cell_type": "code",
      "execution_count": null,
      "metadata": {
        "id": "jub-irQhnSkH"
      },
      "outputs": [],
      "source": [
        "# !bash ./scripts/run_all_sequence.sh 0 vgg16 0.8,0.8,0.8,0.8,0.8,-1 0.02 2 random r000 False\n",
        "# !bash ./scripts/run_all_eval.sh 0 vgg16 0.8,0.8,0.8,0.8,0.8,-1 r000\n",
        "!bash ./scripts/run_all_final_eval.sh 0 vgg16 0.8,0.8,0.8,0.8,0.8,-1 r002\n"
      ]
    }
  ],
  "metadata": {
    "accelerator": "GPU",
    "colab": {
      "collapsed_sections": [],
      "machine_shape": "hm",
      "name": "ConnCL",
      "provenance": []
    },
    "kernelspec": {
      "display_name": "Python 3",
      "name": "python3"
    },
    "language_info": {
      "name": "python"
    }
  },
  "nbformat": 4,
  "nbformat_minor": 0
}